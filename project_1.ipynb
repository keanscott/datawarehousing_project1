{
 "cells": [
  {
   "cell_type": "markdown",
   "metadata": {},
   "source": [
    "# CITS3401 Project 1\n",
    "### Kean Scott - 23850149\n",
    "\n",
    "## Introduction\n",
    "\n",
    "In Australia, motor vehicle accidents make up a significant proportion of potentially preventable \n",
    "\n",
    "The following python notebook contains all the steps for the analysis of the Australian Road Deaths Database (**ARDD**), also providing the steps taken to build a daata warehouse suitable for ongoing observation of key metrics and statistics. These key metrics will be defined to answer particular questions reguarding road deaths in Australia, in an effort to uncover underlying trends and correlations in these fatalities.  \n",
    "\n",
    "Here are the original sources of my data:\n",
    "\n",
    "- [Fatal crashes (updated Feb 2025)](https://catalogue.data.infrastructure.gov.au/dataset/australian-road-deaths-database/resource/457dbf98-419e-4f1e-a45f-4d568ff0ff69?inner_span=True)\n",
    "- [Fatalities (updated Feb 2025)](https://catalogue.data.infrastructure.gov.au/dataset/australian-road-deaths-database/resource/80091814-9a39-444c-a329-b27561d8fcc6?inner_span=True)\n",
    "\n",
    "## Step 1: Initial Data Exploration - Identifying the questions to be asked of our data warehouse, and defining it's dimensions"
   ]
  },
  {
   "cell_type": "code",
   "execution_count": 1,
   "metadata": {},
   "outputs": [],
   "source": [
    "import pandas as pd\n",
    "import matplotlib.pyplot as plt\n",
    "import numpy as np "
   ]
  }
 ],
 "metadata": {
  "kernelspec": {
   "display_name": "uni",
   "language": "python",
   "name": "python3"
  },
  "language_info": {
   "codemirror_mode": {
    "name": "ipython",
    "version": 3
   },
   "file_extension": ".py",
   "mimetype": "text/x-python",
   "name": "python",
   "nbconvert_exporter": "python",
   "pygments_lexer": "ipython3",
   "version": "3.12.4"
  }
 },
 "nbformat": 4,
 "nbformat_minor": 2
}
